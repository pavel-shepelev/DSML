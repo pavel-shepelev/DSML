{
 "cells": [
  {
   "cell_type": "code",
   "execution_count": 1,
   "metadata": {},
   "outputs": [],
   "source": [
    "import numpy as np\n",
    "import pandas as pd\n",
    "from collections import Counter"
   ]
  },
  {
   "cell_type": "code",
   "execution_count": 2,
   "metadata": {},
   "outputs": [
    {
     "name": "stderr",
     "output_type": "stream",
     "text": [
      "C:\\Users\\pshep\\Miniconda3\\envs\\py3\\lib\\site-packages\\ipykernel_launcher.py:1: FutureWarning: read_table is deprecated, use read_csv instead, passing sep='\\t'.\n",
      "  \"\"\"Entry point for launching an IPython kernel.\n"
     ]
    },
    {
     "data": {
      "text/html": [
       "<div>\n",
       "<style scoped>\n",
       "    .dataframe tbody tr th:only-of-type {\n",
       "        vertical-align: middle;\n",
       "    }\n",
       "\n",
       "    .dataframe tbody tr th {\n",
       "        vertical-align: top;\n",
       "    }\n",
       "\n",
       "    .dataframe thead th {\n",
       "        text-align: right;\n",
       "    }\n",
       "</style>\n",
       "<table border=\"1\" class=\"dataframe\">\n",
       "  <thead>\n",
       "    <tr style=\"text-align: right;\">\n",
       "      <th></th>\n",
       "      <th>Category</th>\n",
       "      <th>Content</th>\n",
       "    </tr>\n",
       "  </thead>\n",
       "  <tbody>\n",
       "    <tr>\n",
       "      <th>0</th>\n",
       "      <td>ham</td>\n",
       "      <td>Go until jurong point, crazy.. Available only ...</td>\n",
       "    </tr>\n",
       "    <tr>\n",
       "      <th>1</th>\n",
       "      <td>ham</td>\n",
       "      <td>Ok lar... Joking wif u oni...</td>\n",
       "    </tr>\n",
       "    <tr>\n",
       "      <th>2</th>\n",
       "      <td>spam</td>\n",
       "      <td>Free entry in 2 a wkly comp to win FA Cup fina...</td>\n",
       "    </tr>\n",
       "    <tr>\n",
       "      <th>3</th>\n",
       "      <td>ham</td>\n",
       "      <td>U dun say so early hor... U c already then say...</td>\n",
       "    </tr>\n",
       "    <tr>\n",
       "      <th>4</th>\n",
       "      <td>ham</td>\n",
       "      <td>Nah I don't think he goes to usf, he lives aro...</td>\n",
       "    </tr>\n",
       "  </tbody>\n",
       "</table>\n",
       "</div>"
      ],
      "text/plain": [
       "  Category                                            Content\n",
       "0      ham  Go until jurong point, crazy.. Available only ...\n",
       "1      ham                      Ok lar... Joking wif u oni...\n",
       "2     spam  Free entry in 2 a wkly comp to win FA Cup fina...\n",
       "3      ham  U dun say so early hor... U c already then say...\n",
       "4      ham  Nah I don't think he goes to usf, he lives aro..."
      ]
     },
     "execution_count": 2,
     "metadata": {},
     "output_type": "execute_result"
    }
   ],
   "source": [
    "data = pd.read_table('SMSSpamCollection',header = None, names= ['Category', 'Content'])\n",
    "data.head()"
   ]
  },
  {
   "cell_type": "code",
   "execution_count": 3,
   "metadata": {},
   "outputs": [],
   "source": [
    "category = data.Category\n",
    "content = data.Content"
   ]
  },
  {
   "cell_type": "code",
   "execution_count": 4,
   "metadata": {},
   "outputs": [],
   "source": [
    "names=list(set(category))"
   ]
  },
  {
   "cell_type": "code",
   "execution_count": 5,
   "metadata": {},
   "outputs": [],
   "source": [
    "from sklearn.model_selection import train_test_split\n",
    "from sklearn.model_selection import KFold\n",
    "\n",
    "X=data[\"Content\"]\n",
    "y=data[\"Category\"]\n",
    "\n",
    "kf=KFold(n_splits=5, random_state=None, shuffle=True)\n",
    "for train_index, test_index in kf.split(X):\n",
    "    X_train, X_test = X[train_index], X[test_index]\n",
    "    y_train, y_test = y[train_index], y[test_index]\n",
    "\n",
    "trainsize =X_train.shape[0]"
   ]
  },
  {
   "cell_type": "code",
   "execution_count": 6,
   "metadata": {},
   "outputs": [],
   "source": [
    "#Выбираем индексы категории \n",
    "def IndexSelect(name):\n",
    "    I=[]\n",
    "    for i in range(trainsize):\n",
    "        if (category[i]== name):\n",
    "            I.append(i)\n",
    "    return I"
   ]
  },
  {
   "cell_type": "code",
   "execution_count": 7,
   "metadata": {},
   "outputs": [],
   "source": [
    "# Общие слова тестового сообщения и сообщения данной категории\n",
    "def CommonWords(categ, testdic):\n",
    "    testcounts=dict.fromkeys(testdic, 0)\n",
    "    for i in IndexSelect(categ):\n",
    "        traindic = dict(Counter(content[i].split()))\n",
    "        for key in traindic:\n",
    "            if key in testdic:\n",
    "                testcounts[key]+=traindic[key]\n",
    "    return (testcounts)"
   ]
  },
  {
   "cell_type": "code",
   "execution_count": 8,
   "metadata": {},
   "outputs": [],
   "source": [
    "#Вероятность категории \n",
    "def Prior (categ):\n",
    "    return (len(IndexSelect(categ))/len(category))"
   ]
  },
  {
   "cell_type": "code",
   "execution_count": 9,
   "metadata": {},
   "outputs": [],
   "source": [
    "#Считаем количество слов и формируем словарь категории\n",
    "def WordsnVoc(categ):\n",
    "    totalwords=0\n",
    "    voc=[]\n",
    "    for i in IndexSelect(categ):\n",
    "        traindic = dict(Counter(content[i].split()))\n",
    "        totalwords+=len(traindic.keys())\n",
    "        voc=list(set(voc+list(traindic.keys())))\n",
    "    return (totalwords, voc)"
   ]
  },
  {
   "cell_type": "code",
   "execution_count": 10,
   "metadata": {},
   "outputs": [
    {
     "name": "stdout",
     "output_type": "stream",
     "text": [
      "13712\n",
      "{'ham': 51321, 'spam': 13742}\n"
     ]
    }
   ],
   "source": [
    "values=[]\n",
    "voc=[]\n",
    "for categ in names:\n",
    "    voc= list(set(WordsnVoc(categ)[1]+voc))\n",
    "    values.append(WordsnVoc(categ)[0])\n",
    "totalwords=dict(zip(names, values))\n",
    "voclength=len(voc) \n",
    "print(voclength)  #Длина общего словаря\n",
    "print(totalwords) #Число слов в каждой категории"
   ]
  },
  {
   "cell_type": "code",
   "execution_count": 11,
   "metadata": {},
   "outputs": [],
   "source": [
    "def Main(testdic):\n",
    "    probs=[]\n",
    "    for categ in names:\n",
    "        testcounts=CommonWords(categ, testdic)\n",
    "        condprob=dict.fromkeys(testcounts, 0)\n",
    "        p=1\n",
    "        for word in testcounts:\n",
    "            #вероятность того,что сообщение принадлежит данной категории, при условии, что в ней есть данное слово (+1 - защита от нулей в произведении) \n",
    "            condprob[word]=10000*(testcounts[word]+1)/(totalwords[categ] +voclength) \n",
    "            p*=condprob[word]  #умножаем для каждого слова в тестовом сообщении  \n",
    "        p*=Prior(categ)        #и на вероятность категории\n",
    "        probs.append(p)\n",
    "    val,idx=max((val, idx) for (idx, val) in enumerate(probs))\n",
    "    return names[idx]"
   ]
  },
  {
   "cell_type": "code",
   "execution_count": 12,
   "metadata": {},
   "outputs": [
    {
     "name": "stdout",
     "output_type": "stream",
     "text": [
      "Accuracy: 0.9892280071813285\n"
     ]
    }
   ],
   "source": [
    "y_pred=[]\n",
    "\n",
    "for i in range(len(X_test)):\n",
    "    testdict=dict(Counter(np.array(X_test)[i].split()))\n",
    "    answer=Main(testdict)\n",
    "    np.array(y_pred.append(answer))\n",
    "    \n",
    "from sklearn.metrics import accuracy_score\n",
    "print(f\"Accuracy: {accuracy_score(np.array(y_test), y_pred)}\" )"
   ]
  },
  {
   "cell_type": "code",
   "execution_count": 13,
   "metadata": {},
   "outputs": [
    {
     "name": "stdout",
     "output_type": "stream",
     "text": [
      "Accuracy: 0.9847396768402155\n"
     ]
    }
   ],
   "source": [
    "#Сравниваем с реализацией на sklearn\n",
    "from sklearn.naive_bayes import MultinomialNB\n",
    "import scipy as sci\n",
    "from sklearn.feature_extraction.text import CountVectorizer\n",
    "count_vect = CountVectorizer()\n",
    "\n",
    "X_train_counts = count_vect.fit_transform(X_train)\n",
    "X_test_counts = count_vect.transform(X_test)\n",
    "\n",
    "X_train = sci.sparse.csr_matrix.todense(X_train_counts)\n",
    "X_test = sci.sparse.csr_matrix.todense(X_test_counts)\n",
    "\n",
    "model = MultinomialNB().fit(X_train, y_train)\n",
    "y_pred = model.predict(X_test)\n",
    "print(f\"Accuracy: {accuracy_score(np.array(y_test), y_pred)}\")"
   ]
  }
 ],
 "metadata": {
  "kernelspec": {
   "display_name": "Python 3",
   "language": "python",
   "name": "python3"
  },
  "language_info": {
   "codemirror_mode": {
    "name": "ipython",
    "version": 3
   },
   "file_extension": ".py",
   "mimetype": "text/x-python",
   "name": "python",
   "nbconvert_exporter": "python",
   "pygments_lexer": "ipython3",
   "version": "3.7.3"
  }
 },
 "nbformat": 4,
 "nbformat_minor": 2
}
